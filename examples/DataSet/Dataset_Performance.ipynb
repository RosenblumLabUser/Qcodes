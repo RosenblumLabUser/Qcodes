{
 "cells": [
  {
   "cell_type": "markdown",
   "metadata": {},
   "source": [
    "# DataSet Performance\n",
    "\n",
    "This notebook shows the trade-off between inserting data into a database row-by-row and as binary blobs. Inserting the data row-by-row means that we have direct access to all the data and may perform queries directly on the values of the data. On the other hand, as we shall see, this is much slower than inserting the data directly as binary blobs."
   ]
  },
  {
   "cell_type": "markdown",
   "metadata": {},
   "source": [
    "First, we choose a new location for the database to ensure that we don't add a bunch of benchmarking data to the default one."
   ]
  },
  {
   "cell_type": "code",
   "execution_count": 1,
   "metadata": {
    "execution": {
     "iopub.execute_input": "2022-11-29T16:37:05.163900Z",
     "iopub.status.busy": "2022-11-29T16:37:05.163594Z",
     "iopub.status.idle": "2022-11-29T16:37:05.473942Z",
     "shell.execute_reply": "2022-11-29T16:37:05.472919Z"
    }
   },
   "outputs": [],
   "source": [
    "import os\n",
    "cwd = os.getcwd()\n",
    "import qcodes as qc\n",
    "qc.config[\"core\"][\"db_location\"] = os.path.join(cwd, 'testing.db')\n"
   ]
  },
  {
   "cell_type": "code",
   "execution_count": 2,
   "metadata": {
    "execution": {
     "iopub.execute_input": "2022-11-29T16:37:05.478588Z",
     "iopub.status.busy": "2022-11-29T16:37:05.478233Z",
     "iopub.status.idle": "2022-11-29T16:37:05.852117Z",
     "shell.execute_reply": "2022-11-29T16:37:05.851278Z"
    }
   },
   "outputs": [],
   "source": [
    "%matplotlib inline\n",
    "import time\n",
    "import matplotlib.pyplot as plt\n",
    "import numpy as np\n",
    "\n",
    "import qcodes as qc\n",
    "from qcodes.instrument.parameter import ManualParameter\n",
    "from qcodes.dataset.experiment_container import (Experiment,\n",
    "                                                 load_last_experiment,\n",
    "                                                 new_experiment)\n",
    "from qcodes.dataset.sqlite.database import initialise_database\n",
    "from qcodes import load_or_create_experiment\n",
    "from qcodes.dataset.measurements import Measurement"
   ]
  },
  {
   "cell_type": "code",
   "execution_count": 3,
   "metadata": {
    "execution": {
     "iopub.execute_input": "2022-11-29T16:37:05.856433Z",
     "iopub.status.busy": "2022-11-29T16:37:05.856060Z",
     "iopub.status.idle": "2022-11-29T16:37:05.900601Z",
     "shell.execute_reply": "2022-11-29T16:37:05.899680Z"
    }
   },
   "outputs": [],
   "source": [
    "initialise_database()\n",
    "exp = load_or_create_experiment(experiment_name='tutorial_exp', sample_name=\"no sample\")"
   ]
  },
  {
   "cell_type": "markdown",
   "metadata": {},
   "source": [
    "Here, we define a simple function to benchmark the time it takes to insert n points with either numeric or array data type.\n",
    "We will compare both the time used to call ``add_result`` and the time used for the full measurement."
   ]
  },
  {
   "cell_type": "code",
   "execution_count": 4,
   "metadata": {
    "execution": {
     "iopub.execute_input": "2022-11-29T16:37:05.904929Z",
     "iopub.status.busy": "2022-11-29T16:37:05.904426Z",
     "iopub.status.idle": "2022-11-29T16:37:05.914593Z",
     "shell.execute_reply": "2022-11-29T16:37:05.913906Z"
    }
   },
   "outputs": [],
   "source": [
    "def insert_data(paramtype, npoints, nreps=1):\n",
    "\n",
    "    meas = Measurement(exp=exp)\n",
    "\n",
    "    x1 = ManualParameter('x1')\n",
    "    x2 = ManualParameter('x2')\n",
    "    x3 = ManualParameter('x3')\n",
    "    y1 = ManualParameter('y1')\n",
    "    y2 = ManualParameter('y2')\n",
    "\n",
    "    meas.register_parameter(x1, paramtype=paramtype)\n",
    "    meas.register_parameter(x2, paramtype=paramtype)\n",
    "    meas.register_parameter(x3, paramtype=paramtype)\n",
    "    meas.register_parameter(y1, setpoints=[x1, x2, x3],\n",
    "                            paramtype=paramtype)\n",
    "    meas.register_parameter(y2, setpoints=[x1, x2, x3],\n",
    "                            paramtype=paramtype)\n",
    "    start = time.perf_counter()\n",
    "    with meas.run() as datasaver:\n",
    "        start_adding = time.perf_counter()\n",
    "        for i in range(nreps):\n",
    "            datasaver.add_result((x1, np.random.rand(npoints)),\n",
    "                                 (x2, np.random.rand(npoints)),\n",
    "                                 (x3, np.random.rand(npoints)),\n",
    "                                 (y1, np.random.rand(npoints)),\n",
    "                                 (y2, np.random.rand(npoints)))\n",
    "        stop_adding = time.perf_counter()\n",
    "        run_id = datasaver.run_id\n",
    "    stop = time.perf_counter()\n",
    "    tot_time = stop - start\n",
    "    add_time = stop_adding - start_adding\n",
    "    return tot_time, add_time, run_id"
   ]
  },
  {
   "cell_type": "markdown",
   "metadata": {},
   "source": [
    "## Comparison between numeric/array data and binary blob"
   ]
  },
  {
   "cell_type": "markdown",
   "metadata": {},
   "source": [
    "### Case1: Short experiment time"
   ]
  },
  {
   "cell_type": "code",
   "execution_count": 5,
   "metadata": {
    "execution": {
     "iopub.execute_input": "2022-11-29T16:37:05.918291Z",
     "iopub.status.busy": "2022-11-29T16:37:05.917859Z",
     "iopub.status.idle": "2022-11-29T16:37:06.508937Z",
     "shell.execute_reply": "2022-11-29T16:37:06.508087Z"
    }
   },
   "outputs": [
    {
     "name": "stdout",
     "output_type": "stream",
     "text": [
      "Starting experimental run with id: 1. \n",
      "Starting experimental run with id: 2. \n",
      "Starting experimental run with id: 3. \n",
      "Starting experimental run with id: 4. \n",
      "Starting experimental run with id: 5. \n",
      "Starting experimental run with id: 6. \n",
      "Starting experimental run with id: 7. \n",
      "Starting experimental run with id: 8. \n"
     ]
    },
    {
     "name": "stdout",
     "output_type": "stream",
     "text": [
      "Starting experimental run with id: 9. \n",
      "Starting experimental run with id: 10. \n",
      "Starting experimental run with id: 11. \n",
      "Starting experimental run with id: 12. \n",
      "Starting experimental run with id: 13. \n"
     ]
    },
    {
     "name": "stdout",
     "output_type": "stream",
     "text": [
      "Starting experimental run with id: 14. \n"
     ]
    }
   ],
   "source": [
    "sizes = [1,500,1000,2000,3000,4000,5000]\n",
    "t_numeric = []\n",
    "t_numeric_add = []\n",
    "t_array = []\n",
    "t_array_add = []\n",
    "for size in sizes:\n",
    "    tn, tna, run_id_n =  insert_data('numeric', size)\n",
    "    t_numeric.append(tn)\n",
    "    t_numeric_add.append(tna)\n",
    "\n",
    "    ta, taa, run_id_a =  insert_data('array', size)\n",
    "    t_array.append(ta)\n",
    "    t_array_add.append(taa)"
   ]
  },
  {
   "cell_type": "code",
   "execution_count": 6,
   "metadata": {
    "execution": {
     "iopub.execute_input": "2022-11-29T16:37:06.512868Z",
     "iopub.status.busy": "2022-11-29T16:37:06.512586Z",
     "iopub.status.idle": "2022-11-29T16:37:06.757163Z",
     "shell.execute_reply": "2022-11-29T16:37:06.756335Z"
    }
   },
   "outputs": [
    {
     "data": {
      "image/png": "[encoded data removed]",
      "text/plain": [
       "<Figure size 640x480 with 1 Axes>"
      ]
     },
     "metadata": {},
     "output_type": "display_data"
    }
   ],
   "source": [
    "fig, ax = plt.subplots(1,1)\n",
    "ax.plot(sizes, t_numeric, 'o-', label='Inserting row-by-row')\n",
    "ax.plot(sizes, t_numeric_add, 'o-', label='Inserting row-by-row: add_result only')\n",
    "ax.plot(sizes, t_array, 'd-', label='Inserting as binary blob')\n",
    "ax.plot(sizes, t_array_add, 'd-', label='Inserting as binary blob: add_result only')\n",
    "ax.legend()\n",
    "ax.set_xlabel('Array length')\n",
    "ax.set_ylabel('Time (s)')\n",
    "fig.tight_layout()"
   ]
  },
  {
   "cell_type": "markdown",
   "metadata": {},
   "source": [
    "As shown in the latter figure, the time to setup and and close the experiment is approximately 0.4 sec. In case of small array sizes, the difference between inserting values of data as arrays and inserting them row-by-row is relatively unimportant. At larger array sizes, i.e. above 10000 points, the cost of writing data as individual datapoints starts to become important.\n"
   ]
  },
  {
   "cell_type": "markdown",
   "metadata": {},
   "source": [
    "### Case2: Long experiment time "
   ]
  },
  {
   "cell_type": "code",
   "execution_count": 7,
   "metadata": {
    "execution": {
     "iopub.execute_input": "2022-11-29T16:37:06.762331Z",
     "iopub.status.busy": "2022-11-29T16:37:06.761789Z",
     "iopub.status.idle": "2022-11-29T16:37:38.936750Z",
     "shell.execute_reply": "2022-11-29T16:37:38.935903Z"
    }
   },
   "outputs": [
    {
     "name": "stdout",
     "output_type": "stream",
     "text": [
      "Starting experimental run with id: 15. \n",
      "Starting experimental run with id: 16. \n",
      "Starting experimental run with id: 17. \n"
     ]
    },
    {
     "name": "stdout",
     "output_type": "stream",
     "text": [
      "Starting experimental run with id: 18. \n",
      "Starting experimental run with id: 19. \n"
     ]
    },
    {
     "name": "stdout",
     "output_type": "stream",
     "text": [
      "Starting experimental run with id: 20. \n",
      "Starting experimental run with id: 21. \n"
     ]
    },
    {
     "name": "stdout",
     "output_type": "stream",
     "text": [
      "Starting experimental run with id: 22. \n"
     ]
    },
    {
     "name": "stdout",
     "output_type": "stream",
     "text": [
      "Starting experimental run with id: 23. \n"
     ]
    },
    {
     "name": "stdout",
     "output_type": "stream",
     "text": [
      "Starting experimental run with id: 24. \n"
     ]
    },
    {
     "name": "stdout",
     "output_type": "stream",
     "text": [
      "Starting experimental run with id: 25. \n"
     ]
    },
    {
     "name": "stdout",
     "output_type": "stream",
     "text": [
      "Starting experimental run with id: 26. \n"
     ]
    },
    {
     "name": "stdout",
     "output_type": "stream",
     "text": [
      "Starting experimental run with id: 27. \n"
     ]
    },
    {
     "name": "stdout",
     "output_type": "stream",
     "text": [
      "Starting experimental run with id: 28. \n"
     ]
    }
   ],
   "source": [
    "sizes = [1,500,1000,2000,3000,4000,5000]\n",
    "nreps = 100\n",
    "t_numeric = []\n",
    "t_numeric_add = []\n",
    "t_numeric_run_ids = []\n",
    "t_array = []\n",
    "t_array_add = []\n",
    "t_array_run_ids = []\n",
    "for size in sizes:\n",
    "    tn, tna, run_id_n =  insert_data('numeric', size, nreps=nreps)\n",
    "    t_numeric.append(tn)\n",
    "    t_numeric_add.append(tna)\n",
    "    t_numeric_run_ids.append(run_id_n)\n",
    "\n",
    "    ta, taa, run_id_a =  insert_data('array', size, nreps=nreps)\n",
    "    t_array.append(ta)\n",
    "    t_array_add.append(taa)\n",
    "    t_array_run_ids.append(run_id_a)"
   ]
  },
  {
   "cell_type": "code",
   "execution_count": 8,
   "metadata": {
    "execution": {
     "iopub.execute_input": "2022-11-29T16:37:38.941714Z",
     "iopub.status.busy": "2022-11-29T16:37:38.941191Z",
     "iopub.status.idle": "2022-11-29T16:37:39.165024Z",
     "shell.execute_reply": "2022-11-29T16:37:39.164304Z"
    },
    "scrolled": true
   },
   "outputs": [
    {
     "data": {
      "image/png": "[encoded data removed]",
      "text/plain": [
       "<Figure size 640x480 with 1 Axes>"
      ]
     },
     "metadata": {},
     "output_type": "display_data"
    }
   ],
   "source": [
    "fig, ax = plt.subplots(1,1)\n",
    "ax.plot(sizes, t_numeric, 'o-', label='Inserting row-by-row')\n",
    "ax.plot(sizes, t_numeric_add, 'o-', label='Inserting row-by-row: add_result only')\n",
    "ax.plot(sizes, t_array, 'd-', label='Inserting as binary blob')\n",
    "ax.plot(sizes, t_array_add, 'd-', label='Inserting as binary blob: add_result only')\n",
    "ax.legend()\n",
    "ax.set_xlabel('Array length')\n",
    "ax.set_ylabel('Time (s)')\n",
    "fig.tight_layout()"
   ]
  },
  {
   "cell_type": "markdown",
   "metadata": {},
   "source": [
    "However, as we increase the length of the experiment, as seen here by repeating the insertion 100 times, we see a big difference between inserting values of the data row-by-row and inserting it as a binary blob."
   ]
  },
  {
   "cell_type": "markdown",
   "metadata": {},
   "source": [
    "## Loading the data "
   ]
  },
  {
   "cell_type": "code",
   "execution_count": 9,
   "metadata": {
    "execution": {
     "iopub.execute_input": "2022-11-29T16:37:39.171045Z",
     "iopub.status.busy": "2022-11-29T16:37:39.170265Z",
     "iopub.status.idle": "2022-11-29T16:37:39.174393Z",
     "shell.execute_reply": "2022-11-29T16:37:39.173785Z"
    }
   },
   "outputs": [],
   "source": [
    "from qcodes.dataset.data_set import load_by_id"
   ]
  },
  {
   "cell_type": "markdown",
   "metadata": {},
   "source": [
    "As usual you can load the data by using the ``load_by_id`` function but you will notice that the different storage methods\n",
    "are reflected in shape of the data as it is retrieved. "
   ]
  },
  {
   "cell_type": "code",
   "execution_count": 10,
   "metadata": {
    "execution": {
     "iopub.execute_input": "2022-11-29T16:37:39.177927Z",
     "iopub.status.busy": "2022-11-29T16:37:39.177283Z",
     "iopub.status.idle": "2022-11-29T16:37:39.181033Z",
     "shell.execute_reply": "2022-11-29T16:37:39.180298Z"
    }
   },
   "outputs": [],
   "source": [
    "run_id_n = t_numeric_run_ids[0]\n",
    "run_id_a = t_array_run_ids[0]"
   ]
  },
  {
   "cell_type": "code",
   "execution_count": 11,
   "metadata": {
    "execution": {
     "iopub.execute_input": "2022-11-29T16:37:39.184260Z",
     "iopub.status.busy": "2022-11-29T16:37:39.183851Z",
     "iopub.status.idle": "2022-11-29T16:37:39.193589Z",
     "shell.execute_reply": "2022-11-29T16:37:39.192845Z"
    },
    "scrolled": true
   },
   "outputs": [
    {
     "data": {
      "text/plain": [
       "{'x1': {'x1': array([0.016283  , 0.016283  , 0.16058916, 0.16058916, 0.67099563,\n",
       "         0.67099563, 0.0133635 , 0.0133635 , 0.85575806, 0.85575806,\n",
       "         0.85641519, 0.85641519, 0.62854738, 0.62854738, 0.48218185,\n",
       "         0.48218185, 0.58805739, 0.58805739, 0.77565296, 0.77565296,\n",
       "         0.99024628, 0.99024628, 0.88833283, 0.88833283, 0.92369849,\n",
       "         0.92369849, 0.92807656, 0.92807656, 0.82723947, 0.82723947,\n",
       "         0.06005486, 0.06005486, 0.43608208, 0.43608208, 0.37695559,\n",
       "         0.37695559, 0.52922854, 0.52922854, 0.80382143, 0.80382143,\n",
       "         0.30919666, 0.30919666, 0.95213182, 0.95213182, 0.92693233,\n",
       "         0.92693233, 0.5654467 , 0.5654467 , 0.48136268, 0.48136268,\n",
       "         0.22362344, 0.22362344, 0.55148914, 0.55148914, 0.40882752,\n",
       "         0.40882752, 0.09335848, 0.09335848, 0.30687185, 0.30687185,\n",
       "         0.23950903, 0.23950903, 0.00631152, 0.00631152, 0.22968514,\n",
       "         0.22968514, 0.81471206, 0.81471206, 0.24214289, 0.24214289,\n",
       "         0.33800481, 0.33800481, 0.7695043 , 0.7695043 , 0.94996941,\n",
       "         0.94996941, 0.2220354 , 0.2220354 , 0.21266531, 0.21266531,\n",
       "         0.82819326, 0.82819326, 0.95338805, 0.95338805, 0.36052704,\n",
       "         0.36052704, 0.27905441, 0.27905441, 0.23583462, 0.23583462,\n",
       "         0.58409119, 0.58409119, 0.18841619, 0.18841619, 0.55841446,\n",
       "         0.55841446, 0.69130709, 0.69130709, 0.1562373 , 0.1562373 ,\n",
       "         0.37324063, 0.37324063, 0.6421005 , 0.6421005 , 0.46286471,\n",
       "         0.46286471, 0.09235998, 0.09235998, 0.87189157, 0.87189157,\n",
       "         0.16545412, 0.16545412, 0.76967088, 0.76967088, 0.44684901,\n",
       "         0.44684901, 0.99606516, 0.99606516, 0.62462003, 0.62462003,\n",
       "         0.7771318 , 0.7771318 , 0.22308633, 0.22308633, 0.85078034,\n",
       "         0.85078034, 0.63472093, 0.63472093, 0.11245432, 0.11245432,\n",
       "         0.07660962, 0.07660962, 0.99498367, 0.99498367, 0.8917677 ,\n",
       "         0.8917677 , 0.61280002, 0.61280002, 0.30953436, 0.30953436,\n",
       "         0.19105461, 0.19105461, 0.82769426, 0.82769426, 0.83093364,\n",
       "         0.83093364, 0.87592507, 0.87592507, 0.20364542, 0.20364542,\n",
       "         0.02106439, 0.02106439, 0.68268416, 0.68268416, 0.92510201,\n",
       "         0.92510201, 0.42158122, 0.42158122, 0.57935734, 0.57935734,\n",
       "         0.71252853, 0.71252853, 0.74280544, 0.74280544, 0.23574683,\n",
       "         0.23574683, 0.49144187, 0.49144187, 0.2898343 , 0.2898343 ,\n",
       "         0.56392897, 0.56392897, 0.04977746, 0.04977746, 0.71529594,\n",
       "         0.71529594, 0.10999728, 0.10999728, 0.74865719, 0.74865719,\n",
       "         0.71746543, 0.71746543, 0.45004262, 0.45004262, 0.93434632,\n",
       "         0.93434632, 0.1154618 , 0.1154618 , 0.71855271, 0.71855271,\n",
       "         0.1741735 , 0.1741735 , 0.25158337, 0.25158337, 0.81209401,\n",
       "         0.81209401, 0.75887566, 0.75887566, 0.66980351, 0.66980351])}}"
      ]
     },
     "execution_count": 11,
     "metadata": {},
     "output_type": "execute_result"
    }
   ],
   "source": [
    "ds = load_by_id(run_id_n)\n",
    "ds.get_parameter_data('x1')"
   ]
  },
  {
   "cell_type": "markdown",
   "metadata": {},
   "source": [
    "And a dataset stored as binary arrays"
   ]
  },
  {
   "cell_type": "code",
   "execution_count": 12,
   "metadata": {
    "execution": {
     "iopub.execute_input": "2022-11-29T16:37:39.197220Z",
     "iopub.status.busy": "2022-11-29T16:37:39.196623Z",
     "iopub.status.idle": "2022-11-29T16:37:39.220108Z",
     "shell.execute_reply": "2022-11-29T16:37:39.219334Z"
    },
    "scrolled": true
   },
   "outputs": [
    {
     "data": {
      "text/plain": [
       "{'x1': {'x1': array([[0.45633436],\n",
       "         [0.45633436],\n",
       "         [0.0802207 ],\n",
       "         [0.0802207 ],\n",
       "         [0.87146156],\n",
       "         [0.87146156],\n",
       "         [0.67737556],\n",
       "         [0.67737556],\n",
       "         [0.02476533],\n",
       "         [0.02476533],\n",
       "         [0.01860526],\n",
       "         [0.01860526],\n",
       "         [0.13944343],\n",
       "         [0.13944343],\n",
       "         [0.75345066],\n",
       "         [0.75345066],\n",
       "         [0.63590808],\n",
       "         [0.63590808],\n",
       "         [0.07093998],\n",
       "         [0.07093998],\n",
       "         [0.77698789],\n",
       "         [0.77698789],\n",
       "         [0.36089736],\n",
       "         [0.36089736],\n",
       "         [0.4737374 ],\n",
       "         [0.4737374 ],\n",
       "         [0.73447602],\n",
       "         [0.73447602],\n",
       "         [0.0976191 ],\n",
       "         [0.0976191 ],\n",
       "         [0.3518612 ],\n",
       "         [0.3518612 ],\n",
       "         [0.42915592],\n",
       "         [0.42915592],\n",
       "         [0.63331834],\n",
       "         [0.63331834],\n",
       "         [0.97688   ],\n",
       "         [0.97688   ],\n",
       "         [0.09853128],\n",
       "         [0.09853128],\n",
       "         [0.19157911],\n",
       "         [0.19157911],\n",
       "         [0.0301103 ],\n",
       "         [0.0301103 ],\n",
       "         [0.1286008 ],\n",
       "         [0.1286008 ],\n",
       "         [0.95855302],\n",
       "         [0.95855302],\n",
       "         [0.19722833],\n",
       "         [0.19722833],\n",
       "         [0.85960534],\n",
       "         [0.85960534],\n",
       "         [0.98653054],\n",
       "         [0.98653054],\n",
       "         [0.75509995],\n",
       "         [0.75509995],\n",
       "         [0.68169708],\n",
       "         [0.68169708],\n",
       "         [0.68914906],\n",
       "         [0.68914906],\n",
       "         [0.19143634],\n",
       "         [0.19143634],\n",
       "         [0.9811728 ],\n",
       "         [0.9811728 ],\n",
       "         [0.55186572],\n",
       "         [0.55186572],\n",
       "         [0.51979208],\n",
       "         [0.51979208],\n",
       "         [0.05794779],\n",
       "         [0.05794779],\n",
       "         [0.18172714],\n",
       "         [0.18172714],\n",
       "         [0.11392155],\n",
       "         [0.11392155],\n",
       "         [0.66125612],\n",
       "         [0.66125612],\n",
       "         [0.99065172],\n",
       "         [0.99065172],\n",
       "         [0.06827355],\n",
       "         [0.06827355],\n",
       "         [0.00366636],\n",
       "         [0.00366636],\n",
       "         [0.53563897],\n",
       "         [0.53563897],\n",
       "         [0.05116986],\n",
       "         [0.05116986],\n",
       "         [0.45897532],\n",
       "         [0.45897532],\n",
       "         [0.32123426],\n",
       "         [0.32123426],\n",
       "         [0.60889646],\n",
       "         [0.60889646],\n",
       "         [0.83081703],\n",
       "         [0.83081703],\n",
       "         [0.92055719],\n",
       "         [0.92055719],\n",
       "         [0.42917762],\n",
       "         [0.42917762],\n",
       "         [0.97007064],\n",
       "         [0.97007064],\n",
       "         [0.83760182],\n",
       "         [0.83760182],\n",
       "         [0.54625421],\n",
       "         [0.54625421],\n",
       "         [0.60092664],\n",
       "         [0.60092664],\n",
       "         [0.25602848],\n",
       "         [0.25602848],\n",
       "         [0.56986015],\n",
       "         [0.56986015],\n",
       "         [0.05218371],\n",
       "         [0.05218371],\n",
       "         [0.83771881],\n",
       "         [0.83771881],\n",
       "         [0.39540829],\n",
       "         [0.39540829],\n",
       "         [0.79778061],\n",
       "         [0.79778061],\n",
       "         [0.21746456],\n",
       "         [0.21746456],\n",
       "         [0.08075962],\n",
       "         [0.08075962],\n",
       "         [0.94772144],\n",
       "         [0.94772144],\n",
       "         [0.21870459],\n",
       "         [0.21870459],\n",
       "         [0.61730283],\n",
       "         [0.61730283],\n",
       "         [0.51617151],\n",
       "         [0.51617151],\n",
       "         [0.6866107 ],\n",
       "         [0.6866107 ],\n",
       "         [0.94982752],\n",
       "         [0.94982752],\n",
       "         [0.75400147],\n",
       "         [0.75400147],\n",
       "         [0.47107202],\n",
       "         [0.47107202],\n",
       "         [0.24465366],\n",
       "         [0.24465366],\n",
       "         [0.68718307],\n",
       "         [0.68718307],\n",
       "         [0.03184217],\n",
       "         [0.03184217],\n",
       "         [0.66210336],\n",
       "         [0.66210336],\n",
       "         [0.36302179],\n",
       "         [0.36302179],\n",
       "         [0.23984704],\n",
       "         [0.23984704],\n",
       "         [0.70593047],\n",
       "         [0.70593047],\n",
       "         [0.54417868],\n",
       "         [0.54417868],\n",
       "         [0.60747336],\n",
       "         [0.60747336],\n",
       "         [0.74116469],\n",
       "         [0.74116469],\n",
       "         [0.87977149],\n",
       "         [0.87977149],\n",
       "         [0.24278378],\n",
       "         [0.24278378],\n",
       "         [0.86026752],\n",
       "         [0.86026752],\n",
       "         [0.83067175],\n",
       "         [0.83067175],\n",
       "         [0.26308327],\n",
       "         [0.26308327],\n",
       "         [0.22846391],\n",
       "         [0.22846391],\n",
       "         [0.33823595],\n",
       "         [0.33823595],\n",
       "         [0.80914586],\n",
       "         [0.80914586],\n",
       "         [0.01933771],\n",
       "         [0.01933771],\n",
       "         [0.71370246],\n",
       "         [0.71370246],\n",
       "         [0.44634491],\n",
       "         [0.44634491],\n",
       "         [0.57932546],\n",
       "         [0.57932546],\n",
       "         [0.87199995],\n",
       "         [0.87199995],\n",
       "         [0.15871235],\n",
       "         [0.15871235],\n",
       "         [0.26206761],\n",
       "         [0.26206761],\n",
       "         [0.2914621 ],\n",
       "         [0.2914621 ],\n",
       "         [0.52108995],\n",
       "         [0.52108995],\n",
       "         [0.73085512],\n",
       "         [0.73085512],\n",
       "         [0.3685136 ],\n",
       "         [0.3685136 ],\n",
       "         [0.6977322 ],\n",
       "         [0.6977322 ],\n",
       "         [0.09518832],\n",
       "         [0.09518832]])}}"
      ]
     },
     "execution_count": 12,
     "metadata": {},
     "output_type": "execute_result"
    }
   ],
   "source": [
    "ds = load_by_id(run_id_a)\n",
    "ds.get_parameter_data('x1')"
   ]
  },
  {
   "cell_type": "code",
   "execution_count": null,
   "metadata": {},
   "outputs": [],
   "source": []
  }
 ],
 "metadata": {
  "kernelspec": {
   "display_name": "Python 3",
   "language": "python",
   "name": "python3"
  },
  "language_info": {
   "codemirror_mode": {
    "name": "ipython",
    "version": 3
   },
   "file_extension": ".py",
   "mimetype": "text/x-python",
   "name": "python",
   "nbconvert_exporter": "python",
   "pygments_lexer": "ipython3",
   "version": "3.10.8"
  },
  "nbsphinx": {
   "timeout": 600
  },
  "toc": {
   "base_numbering": 1,
   "nav_menu": {},
   "number_sections": true,
   "sideBar": true,
   "skip_h1_title": false,
   "title_cell": "Table of Contents",
   "title_sidebar": "Contents",
   "toc_cell": false,
   "toc_position": {},
   "toc_section_display": true,
   "toc_window_display": false
  },
  "varInspector": {
   "cols": {
    "lenName": 16,
    "lenType": 16,
    "lenVar": 40
   },
   "kernels_config": {
    "python": {
     "delete_cmd_postfix": "",
     "delete_cmd_prefix": "del ",
     "library": "var_list.py",
     "varRefreshCmd": "print(var_dic_list())"
    },
    "r": {
     "delete_cmd_postfix": ") ",
     "delete_cmd_prefix": "rm(",
     "library": "var_list.r",
     "varRefreshCmd": "cat(var_dic_list()) "
    }
   },
   "types_to_exclude": [
    "module",
    "function",
    "builtin_function_or_method",
    "instance",
    "_Feature"
   ],
   "window_display": false
  }
 },
 "nbformat": 4,
 "nbformat_minor": 4
}
