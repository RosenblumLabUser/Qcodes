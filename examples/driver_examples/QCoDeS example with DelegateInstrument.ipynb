{
 "cells": [
  {
   "cell_type": "markdown",
   "id": "plain-primary",
   "metadata": {},
   "source": [
    "# Qcodes example with DelegateInstrument driver\n",
    "\n",
    "This notebooks explains how to use the `DelegateInstrument` driver.\n",
    "\n",
    "## About\n",
    "The goal of the `DelegateInstrument` driver is to make it easier to combine different parameters together into a new \"virtual\" instrument. Each parameter on a `DelegateInstrument` can point to one or more parameters on other instruments in the station.\n",
    "\n",
    "## Usage\n",
    "The way it's used is mainly by specifying an entry in the station YAML. For instance, let's say you want to use a magnetic field coil. The driver has a method set_field(value, block), that by default is set to block=True, which means the field is ramped in a way that blocks further execution until the desired value is reached. However, let's say you are creating a measurement in which you want the parameter to be set, and while the value is ramping, you want to measure other parameters. This can be done by using `DelegateInstrument` and specifying a custom `setter` for the parameter that gets and sets the magnetic field.\n",
    "\n",
    "By default, each parameter is represented by a `DelegateParameter`. The `DelegateInstrument` also supports passing multiple source parameters to a given parameter. In order to do this, simply specify multiple parameters in the dictionary values  under the `parameters` key.\n",
    "\n",
    "It can also add instrument channels, specified under a separate key `channels`, shown in the second half of the notebook."
   ]
  },
  {
   "cell_type": "code",
   "execution_count": 1,
   "id": "sapphire-quebec",
   "metadata": {
    "execution": {
     "iopub.execute_input": "2022-11-29T16:43:26.106604Z",
     "iopub.status.busy": "2022-11-29T16:43:26.105774Z",
     "iopub.status.idle": "2022-11-29T16:43:26.118787Z",
     "shell.execute_reply": "2022-11-29T16:43:26.117412Z"
    }
   },
   "outputs": [
    {
     "name": "stdout",
     "output_type": "stream",
     "text": [
      "Writing example.yaml\n"
     ]
    }
   ],
   "source": [
    "%%writefile example.yaml\n",
    "\n",
    "instruments:\n",
    "  field_X:\n",
    "    type: qcodes.tests.instrument_mocks.MockField\n",
    "\n",
    "  field:\n",
    "    type: qcodes.instrument.delegate.DelegateInstrument\n",
    "    init:\n",
    "      parameters:\n",
    "        X:\n",
    "          - field_X.field\n",
    "        ramp_rate:\n",
    "          - field_X.ramp_rate\n",
    "        combined:\n",
    "          - field_X.field\n",
    "          - field_X.ramp_rate\n",
    "      set_initial_values_on_load: true\n",
    "      initial_values:\n",
    "        ramp_rate: 1.0\n",
    "      setters:\n",
    "        X:\n",
    "          method: field_X.set_field\n",
    "          block: false"
   ]
  },
  {
   "cell_type": "code",
   "execution_count": 2,
   "id": "younger-newspaper",
   "metadata": {
    "execution": {
     "iopub.execute_input": "2022-11-29T16:43:26.122419Z",
     "iopub.status.busy": "2022-11-29T16:43:26.121980Z",
     "iopub.status.idle": "2022-11-29T16:43:26.418764Z",
     "shell.execute_reply": "2022-11-29T16:43:26.417338Z"
    }
   },
   "outputs": [],
   "source": [
    "import qcodes as qc"
   ]
  },
  {
   "cell_type": "code",
   "execution_count": 3,
   "id": "muslim-briefs",
   "metadata": {
    "execution": {
     "iopub.execute_input": "2022-11-29T16:43:26.423803Z",
     "iopub.status.busy": "2022-11-29T16:43:26.423298Z",
     "iopub.status.idle": "2022-11-29T16:43:26.453840Z",
     "shell.execute_reply": "2022-11-29T16:43:26.452461Z"
    }
   },
   "outputs": [],
   "source": [
    "station = qc.Station(config_file=\"example.yaml\")"
   ]
  },
  {
   "cell_type": "code",
   "execution_count": 4,
   "id": "greatest-antenna",
   "metadata": {
    "execution": {
     "iopub.execute_input": "2022-11-29T16:43:26.458445Z",
     "iopub.status.busy": "2022-11-29T16:43:26.458172Z",
     "iopub.status.idle": "2022-11-29T16:43:26.491519Z",
     "shell.execute_reply": "2022-11-29T16:43:26.490775Z"
    }
   },
   "outputs": [],
   "source": [
    "field_X = station.load_field_X()\n",
    "field = station.load_field(station=station)"
   ]
  },
  {
   "cell_type": "code",
   "execution_count": 5,
   "id": "every-playing",
   "metadata": {
    "execution": {
     "iopub.execute_input": "2022-11-29T16:43:26.495138Z",
     "iopub.status.busy": "2022-11-29T16:43:26.494640Z",
     "iopub.status.idle": "2022-11-29T16:43:26.505220Z",
     "shell.execute_reply": "2022-11-29T16:43:26.504471Z"
    }
   },
   "outputs": [
    {
     "data": {
      "text/plain": [
       "0.0"
      ]
     },
     "execution_count": 5,
     "metadata": {},
     "output_type": "execute_result"
    }
   ],
   "source": [
    "field.X()"
   ]
  },
  {
   "cell_type": "code",
   "execution_count": 6,
   "id": "undefined-worst",
   "metadata": {
    "execution": {
     "iopub.execute_input": "2022-11-29T16:43:26.509400Z",
     "iopub.status.busy": "2022-11-29T16:43:26.509139Z",
     "iopub.status.idle": "2022-11-29T16:43:26.512747Z",
     "shell.execute_reply": "2022-11-29T16:43:26.512000Z"
    }
   },
   "outputs": [],
   "source": [
    "field.X(1.)"
   ]
  },
  {
   "cell_type": "code",
   "execution_count": 7,
   "id": "recreational-suggestion",
   "metadata": {
    "execution": {
     "iopub.execute_input": "2022-11-29T16:43:26.516080Z",
     "iopub.status.busy": "2022-11-29T16:43:26.515809Z",
     "iopub.status.idle": "2022-11-29T16:43:26.520644Z",
     "shell.execute_reply": "2022-11-29T16:43:26.519928Z"
    }
   },
   "outputs": [
    {
     "data": {
      "text/plain": [
       "0.00010919570922851562"
      ]
     },
     "execution_count": 7,
     "metadata": {},
     "output_type": "execute_result"
    }
   ],
   "source": [
    "field.X()"
   ]
  },
  {
   "cell_type": "code",
   "execution_count": 8,
   "id": "adopted-exchange",
   "metadata": {
    "execution": {
     "iopub.execute_input": "2022-11-29T16:43:26.523703Z",
     "iopub.status.busy": "2022-11-29T16:43:26.523412Z",
     "iopub.status.idle": "2022-11-29T16:43:26.528074Z",
     "shell.execute_reply": "2022-11-29T16:43:26.527334Z"
    }
   },
   "outputs": [
    {
     "data": {
      "text/plain": [
       "0.00023547808329264322"
      ]
     },
     "execution_count": 8,
     "metadata": {},
     "output_type": "execute_result"
    }
   ],
   "source": [
    "field.X()"
   ]
  },
  {
   "cell_type": "code",
   "execution_count": 9,
   "id": "bound-broadcasting",
   "metadata": {
    "execution": {
     "iopub.execute_input": "2022-11-29T16:43:26.531745Z",
     "iopub.status.busy": "2022-11-29T16:43:26.531488Z",
     "iopub.status.idle": "2022-11-29T16:43:26.536382Z",
     "shell.execute_reply": "2022-11-29T16:43:26.535647Z"
    }
   },
   "outputs": [
    {
     "data": {
      "text/plain": [
       "0.00036984682083129883"
      ]
     },
     "execution_count": 9,
     "metadata": {},
     "output_type": "execute_result"
    }
   ],
   "source": [
    "field.X()"
   ]
  },
  {
   "cell_type": "code",
   "execution_count": 10,
   "id": "casual-ghost",
   "metadata": {
    "execution": {
     "iopub.execute_input": "2022-11-29T16:43:26.541008Z",
     "iopub.status.busy": "2022-11-29T16:43:26.540612Z",
     "iopub.status.idle": "2022-11-29T16:43:26.545378Z",
     "shell.execute_reply": "2022-11-29T16:43:26.544685Z"
    }
   },
   "outputs": [
    {
     "data": {
      "text/plain": [
       "0.0005235830942789713"
      ]
     },
     "execution_count": 10,
     "metadata": {},
     "output_type": "execute_result"
    }
   ],
   "source": [
    "field.X()"
   ]
  },
  {
   "cell_type": "markdown",
   "id": "alike-process",
   "metadata": {},
   "source": [
    "As you can see, the field is now ramped in the background with the specified ramp rate. Now, let's try to create a measurement that uses this ability, and ramps the field in the background while measuring:"
   ]
  },
  {
   "cell_type": "code",
   "execution_count": 11,
   "id": "sustained-tiger",
   "metadata": {
    "execution": {
     "iopub.execute_input": "2022-11-29T16:43:26.548765Z",
     "iopub.status.busy": "2022-11-29T16:43:26.548285Z",
     "iopub.status.idle": "2022-11-29T16:43:26.554991Z",
     "shell.execute_reply": "2022-11-29T16:43:26.554334Z"
    }
   },
   "outputs": [],
   "source": [
    "field.ramp_rate(10.)\n",
    "field_X.field(0.0)"
   ]
  },
  {
   "cell_type": "code",
   "execution_count": 12,
   "id": "pharmaceutical-partition",
   "metadata": {
    "execution": {
     "iopub.execute_input": "2022-11-29T16:43:26.558007Z",
     "iopub.status.busy": "2022-11-29T16:43:26.557732Z",
     "iopub.status.idle": "2022-11-29T16:43:26.562515Z",
     "shell.execute_reply": "2022-11-29T16:43:26.561791Z"
    }
   },
   "outputs": [
    {
     "data": {
      "text/plain": [
       "0.0"
      ]
     },
     "execution_count": 12,
     "metadata": {},
     "output_type": "execute_result"
    }
   ],
   "source": [
    "field.X()"
   ]
  },
  {
   "cell_type": "code",
   "execution_count": 13,
   "id": "happy-ordinance",
   "metadata": {
    "execution": {
     "iopub.execute_input": "2022-11-29T16:43:26.566339Z",
     "iopub.status.busy": "2022-11-29T16:43:26.566081Z",
     "iopub.status.idle": "2022-11-29T16:43:27.807656Z",
     "shell.execute_reply": "2022-11-29T16:43:27.806108Z"
    }
   },
   "outputs": [
    {
     "name": "stdout",
     "output_type": "stream",
     "text": [
      "Starting experimental run with id: 60. \n"
     ]
    }
   ],
   "source": [
    "import time\n",
    "meas = qc.Measurement(station=station)\n",
    "meas.register_parameter(field.X)\n",
    "\n",
    "with meas.run() as datasaver:\n",
    "    for B in [0.1, 0.0]:\n",
    "        field.X(B)\n",
    "        while field.X() != B:\n",
    "            datasaver.add_result((field.X, field.X()))\n",
    "            time.sleep(0.01)\n",
    "    datasaver.flush_data_to_database()"
   ]
  },
  {
   "cell_type": "code",
   "execution_count": 14,
   "id": "short-medium",
   "metadata": {
    "execution": {
     "iopub.execute_input": "2022-11-29T16:43:27.811782Z",
     "iopub.status.busy": "2022-11-29T16:43:27.811517Z",
     "iopub.status.idle": "2022-11-29T16:43:28.564483Z",
     "shell.execute_reply": "2022-11-29T16:43:28.563730Z"
    }
   },
   "outputs": [
    {
     "data": {
      "text/plain": [
       "<AxesSubplot: >"
      ]
     },
     "execution_count": 14,
     "metadata": {},
     "output_type": "execute_result"
    },
    {
     "data": {
      "image/png": "[encoded data removed]",
      "text/plain": [
       "<Figure size 640x480 with 1 Axes>"
      ]
     },
     "metadata": {},
     "output_type": "display_data"
    }
   ],
   "source": [
    "datasaver.dataset.to_pandas_dataframe().plot()"
   ]
  },
  {
   "cell_type": "markdown",
   "id": "incomplete-vietnamese",
   "metadata": {},
   "source": [
    "When specifying multiple source parameters on a given parameter, the grouped parameter will automatically return a `namedtuple` that returns both values."
   ]
  },
  {
   "cell_type": "code",
   "execution_count": 15,
   "id": "dangerous-finder",
   "metadata": {
    "execution": {
     "iopub.execute_input": "2022-11-29T16:43:28.568311Z",
     "iopub.status.busy": "2022-11-29T16:43:28.567931Z",
     "iopub.status.idle": "2022-11-29T16:43:28.573635Z",
     "shell.execute_reply": "2022-11-29T16:43:28.573044Z"
    }
   },
   "outputs": [
    {
     "data": {
      "text/plain": [
       "combined(field=0.0, ramp_rate=10.0)"
      ]
     },
     "execution_count": 15,
     "metadata": {},
     "output_type": "execute_result"
    }
   ],
   "source": [
    "field.combined()"
   ]
  },
  {
   "cell_type": "markdown",
   "id": "consolidated-cooper",
   "metadata": {},
   "source": [
    "We can now also create a custom parameter that does a simple calculation based on the current parameters."
   ]
  },
  {
   "cell_type": "code",
   "execution_count": 16,
   "id": "designed-bloom",
   "metadata": {
    "execution": {
     "iopub.execute_input": "2022-11-29T16:43:28.576895Z",
     "iopub.status.busy": "2022-11-29T16:43:28.576422Z",
     "iopub.status.idle": "2022-11-29T16:43:28.580602Z",
     "shell.execute_reply": "2022-11-29T16:43:28.580045Z"
    }
   },
   "outputs": [],
   "source": [
    "import numpy as np\n",
    "\n",
    "def calculate_ramp_time(X, ramp_rate):\n",
    "    \"\"\"Calculate ramp time in seconds\"\"\"\n",
    "    dfield = np.abs(field.target_field - X)\n",
    "    return 60. * dfield/ramp_rate"
   ]
  },
  {
   "cell_type": "code",
   "execution_count": 17,
   "id": "disabled-logic",
   "metadata": {
    "execution": {
     "iopub.execute_input": "2022-11-29T16:43:28.583666Z",
     "iopub.status.busy": "2022-11-29T16:43:28.583178Z",
     "iopub.status.idle": "2022-11-29T16:43:28.586996Z",
     "shell.execute_reply": "2022-11-29T16:43:28.586346Z"
    },
    "scrolled": true
   },
   "outputs": [],
   "source": [
    "field._create_and_add_parameter(\n",
    "    group_name=\"ramp_time\",\n",
    "    station=station,\n",
    "    paths=[\"field_X.field\", \"field_X.ramp_rate\"],\n",
    "    formatter=calculate_ramp_time\n",
    ")"
   ]
  },
  {
   "cell_type": "code",
   "execution_count": 18,
   "id": "adverse-february",
   "metadata": {
    "execution": {
     "iopub.execute_input": "2022-11-29T16:43:28.590183Z",
     "iopub.status.busy": "2022-11-29T16:43:28.589710Z",
     "iopub.status.idle": "2022-11-29T16:43:28.594560Z",
     "shell.execute_reply": "2022-11-29T16:43:28.593979Z"
    }
   },
   "outputs": [
    {
     "data": {
      "text/plain": [
       "6.0"
      ]
     },
     "execution_count": 18,
     "metadata": {},
     "output_type": "execute_result"
    }
   ],
   "source": [
    "field.ramp_rate(1.0)\n",
    "field.target_field = 0.1\n",
    "field.ramp_time()"
   ]
  },
  {
   "cell_type": "code",
   "execution_count": 19,
   "id": "statutory-xerox",
   "metadata": {
    "execution": {
     "iopub.execute_input": "2022-11-29T16:43:28.597793Z",
     "iopub.status.busy": "2022-11-29T16:43:28.597349Z",
     "iopub.status.idle": "2022-11-29T16:43:28.600463Z",
     "shell.execute_reply": "2022-11-29T16:43:28.599914Z"
    }
   },
   "outputs": [],
   "source": [
    "field.X(0.1)"
   ]
  },
  {
   "cell_type": "code",
   "execution_count": 20,
   "id": "varying-auditor",
   "metadata": {
    "execution": {
     "iopub.execute_input": "2022-11-29T16:43:28.603497Z",
     "iopub.status.busy": "2022-11-29T16:43:28.603023Z",
     "iopub.status.idle": "2022-11-29T16:43:28.607516Z",
     "shell.execute_reply": "2022-11-29T16:43:28.606949Z"
    }
   },
   "outputs": [
    {
     "data": {
      "text/plain": [
       "5.994316339492799"
      ]
     },
     "execution_count": 20,
     "metadata": {},
     "output_type": "execute_result"
    }
   ],
   "source": [
    "field.ramp_time()"
   ]
  },
  {
   "cell_type": "code",
   "execution_count": 21,
   "id": "chubby-nickel",
   "metadata": {
    "execution": {
     "iopub.execute_input": "2022-11-29T16:43:28.610518Z",
     "iopub.status.busy": "2022-11-29T16:43:28.610090Z",
     "iopub.status.idle": "2022-11-29T16:43:29.616790Z",
     "shell.execute_reply": "2022-11-29T16:43:29.615936Z"
    }
   },
   "outputs": [
    {
     "data": {
      "text/plain": [
       "4.986016273498536"
      ]
     },
     "execution_count": 21,
     "metadata": {},
     "output_type": "execute_result"
    }
   ],
   "source": [
    "import time\n",
    "time.sleep(1.)\n",
    "field.ramp_time()"
   ]
  },
  {
   "cell_type": "code",
   "execution_count": 22,
   "id": "italian-liberty",
   "metadata": {
    "execution": {
     "iopub.execute_input": "2022-11-29T16:43:29.620819Z",
     "iopub.status.busy": "2022-11-29T16:43:29.620151Z",
     "iopub.status.idle": "2022-11-29T16:43:30.629620Z",
     "shell.execute_reply": "2022-11-29T16:43:30.628470Z"
    }
   },
   "outputs": [
    {
     "data": {
      "text/plain": [
       "3.975463628768922"
      ]
     },
     "execution_count": 22,
     "metadata": {},
     "output_type": "execute_result"
    }
   ],
   "source": [
    "import time\n",
    "time.sleep(1.)\n",
    "field.ramp_time()"
   ]
  },
  {
   "cell_type": "markdown",
   "id": "c1145a2d",
   "metadata": {},
   "source": [
    "# Devices with channels"
   ]
  },
  {
   "cell_type": "markdown",
   "id": "182693f8",
   "metadata": {},
   "source": [
    "The YAML file below specifies the instruments with the channels/parameters we wish to group into a new instrument, here called \"device\". The first example simply adds the channel 'as is' using self.add_submodule, while the readout parameter is added as a DelegateParameter."
   ]
  },
  {
   "cell_type": "code",
   "execution_count": 23,
   "id": "a88d5103",
   "metadata": {
    "execution": {
     "iopub.execute_input": "2022-11-29T16:43:30.634593Z",
     "iopub.status.busy": "2022-11-29T16:43:30.633799Z",
     "iopub.status.idle": "2022-11-29T16:43:30.640109Z",
     "shell.execute_reply": "2022-11-29T16:43:30.639244Z"
    }
   },
   "outputs": [
    {
     "name": "stdout",
     "output_type": "stream",
     "text": [
      "Overwriting example.yaml\n"
     ]
    }
   ],
   "source": [
    "%%writefile example.yaml\n",
    "\n",
    "instruments:\n",
    "  lockin:\n",
    "    type: qcodes.tests.instrument_mocks.MockLockin\n",
    "\n",
    "  dac:\n",
    "    type: qcodes.tests.instrument_mocks.MockDAC   \n",
    "\n",
    "  device:\n",
    "    type: qcodes.instrument.delegate.DelegateInstrument\n",
    "    init:\n",
    "      parameters:\n",
    "        readout: lockin.X\n",
    "      channels:\n",
    "        gate_1: dac.ch01\n",
    "      set_initial_values_on_load: true\n",
    "      initial_values:\n",
    "        readout: 1e-5\n",
    "        gate_1.voltage.post_delay: 0.01"
   ]
  },
  {
   "cell_type": "code",
   "execution_count": 24,
   "id": "91f2a8ab",
   "metadata": {
    "execution": {
     "iopub.execute_input": "2022-11-29T16:43:30.644432Z",
     "iopub.status.busy": "2022-11-29T16:43:30.643913Z",
     "iopub.status.idle": "2022-11-29T16:43:30.658696Z",
     "shell.execute_reply": "2022-11-29T16:43:30.658003Z"
    }
   },
   "outputs": [],
   "source": [
    "station = qc.Station(config_file=\"example.yaml\")"
   ]
  },
  {
   "cell_type": "code",
   "execution_count": 25,
   "id": "45b22762",
   "metadata": {
    "execution": {
     "iopub.execute_input": "2022-11-29T16:43:30.662441Z",
     "iopub.status.busy": "2022-11-29T16:43:30.661973Z",
     "iopub.status.idle": "2022-11-29T16:43:30.705546Z",
     "shell.execute_reply": "2022-11-29T16:43:30.704779Z"
    }
   },
   "outputs": [],
   "source": [
    "lockin = station.load_lockin()\n",
    "dac = station.load_dac()\n",
    "device = station.load_device(station=station)"
   ]
  },
  {
   "cell_type": "code",
   "execution_count": 26,
   "id": "9bfa54fb",
   "metadata": {
    "execution": {
     "iopub.execute_input": "2022-11-29T16:43:30.709243Z",
     "iopub.status.busy": "2022-11-29T16:43:30.708731Z",
     "iopub.status.idle": "2022-11-29T16:43:30.712964Z",
     "shell.execute_reply": "2022-11-29T16:43:30.712177Z"
    }
   },
   "outputs": [
    {
     "name": "stdout",
     "output_type": "stream",
     "text": [
      "<MockDACChannel: dac_ch01 of MockDAC: dac>\n",
      "0.01\n"
     ]
    }
   ],
   "source": [
    "print(device.gate_1)\n",
    "print(device.gate_1.voltage.post_delay)"
   ]
  },
  {
   "cell_type": "code",
   "execution_count": 27,
   "id": "91d57fe0",
   "metadata": {
    "execution": {
     "iopub.execute_input": "2022-11-29T16:43:30.716980Z",
     "iopub.status.busy": "2022-11-29T16:43:30.716735Z",
     "iopub.status.idle": "2022-11-29T16:43:30.732036Z",
     "shell.execute_reply": "2022-11-29T16:43:30.731257Z"
    }
   },
   "outputs": [
    {
     "name": "stdout",
     "output_type": "stream",
     "text": [
      "0.0\n"
     ]
    },
    {
     "data": {
      "text/plain": [
       "-0.6"
      ]
     },
     "execution_count": 27,
     "metadata": {},
     "output_type": "execute_result"
    }
   ],
   "source": [
    "print(device.gate_1.voltage())\n",
    "device.gate_1.voltage(-0.6)\n",
    "device.gate_1.voltage()"
   ]
  },
  {
   "cell_type": "markdown",
   "id": "37e1c2c3",
   "metadata": {},
   "source": [
    "The second example adds a channel using a custom channel class, which takes the initial channel and its name as input and has a parameter current_valid_ranges."
   ]
  },
  {
   "cell_type": "code",
   "execution_count": 28,
   "id": "7e4becd1",
   "metadata": {
    "execution": {
     "iopub.execute_input": "2022-11-29T16:43:30.735935Z",
     "iopub.status.busy": "2022-11-29T16:43:30.735287Z",
     "iopub.status.idle": "2022-11-29T16:43:30.741885Z",
     "shell.execute_reply": "2022-11-29T16:43:30.741218Z"
    }
   },
   "outputs": [
    {
     "name": "stdout",
     "output_type": "stream",
     "text": [
      "Overwriting example.yaml\n"
     ]
    }
   ],
   "source": [
    "%%writefile example.yaml\n",
    "\n",
    "instruments:\n",
    "  lockin:\n",
    "    type: qcodes.tests.instrument_mocks.MockLockin\n",
    "\n",
    "  dac:\n",
    "    type: qcodes.tests.instrument_mocks.MockDAC   \n",
    "\n",
    "  device:\n",
    "    type: qcodes.instrument.delegate.DelegateInstrument\n",
    "    init:\n",
    "      parameters:\n",
    "        readout: lockin.X\n",
    "      channels:\n",
    "        type: qcodes.tests.instrument_mocks.MockCustomChannel\n",
    "        gate_1: \n",
    "          channel: dac.ch01\n",
    "          current_valid_range: [-0.5, 0]\n",
    "      set_initial_values_on_load: true\n",
    "      initial_values:\n",
    "        readout: 1e-5"
   ]
  },
  {
   "cell_type": "code",
   "execution_count": 29,
   "id": "2e3ca8d5",
   "metadata": {
    "execution": {
     "iopub.execute_input": "2022-11-29T16:43:30.745516Z",
     "iopub.status.busy": "2022-11-29T16:43:30.744960Z",
     "iopub.status.idle": "2022-11-29T16:43:30.749714Z",
     "shell.execute_reply": "2022-11-29T16:43:30.749038Z"
    }
   },
   "outputs": [],
   "source": [
    "lockin.close()\n",
    "dac.close()"
   ]
  },
  {
   "cell_type": "code",
   "execution_count": 30,
   "id": "2f2d2b2b",
   "metadata": {
    "execution": {
     "iopub.execute_input": "2022-11-29T16:43:30.753425Z",
     "iopub.status.busy": "2022-11-29T16:43:30.752868Z",
     "iopub.status.idle": "2022-11-29T16:43:30.800968Z",
     "shell.execute_reply": "2022-11-29T16:43:30.800000Z"
    }
   },
   "outputs": [],
   "source": [
    "station = qc.Station(config_file=\"example.yaml\")\n",
    "lockin = station.load_lockin()\n",
    "dac = station.load_dac()"
   ]
  },
  {
   "cell_type": "code",
   "execution_count": 31,
   "id": "9cb653b0",
   "metadata": {
    "execution": {
     "iopub.execute_input": "2022-11-29T16:43:30.806409Z",
     "iopub.status.busy": "2022-11-29T16:43:30.804794Z",
     "iopub.status.idle": "2022-11-29T16:43:30.822078Z",
     "shell.execute_reply": "2022-11-29T16:43:30.821397Z"
    }
   },
   "outputs": [],
   "source": [
    "device = station.load_device(station=station)"
   ]
  },
  {
   "cell_type": "code",
   "execution_count": 32,
   "id": "433d9646",
   "metadata": {
    "execution": {
     "iopub.execute_input": "2022-11-29T16:43:30.825835Z",
     "iopub.status.busy": "2022-11-29T16:43:30.825415Z",
     "iopub.status.idle": "2022-11-29T16:43:30.832400Z",
     "shell.execute_reply": "2022-11-29T16:43:30.831765Z"
    }
   },
   "outputs": [
    {
     "data": {
      "text/plain": [
       "<MockCustomChannel: dac_gate_1 of MockDAC: dac>"
      ]
     },
     "execution_count": 32,
     "metadata": {},
     "output_type": "execute_result"
    }
   ],
   "source": [
    "device.gate_1"
   ]
  },
  {
   "cell_type": "code",
   "execution_count": 33,
   "id": "3d2b8faa",
   "metadata": {
    "execution": {
     "iopub.execute_input": "2022-11-29T16:43:30.835911Z",
     "iopub.status.busy": "2022-11-29T16:43:30.835197Z",
     "iopub.status.idle": "2022-11-29T16:43:30.839730Z",
     "shell.execute_reply": "2022-11-29T16:43:30.838979Z"
    }
   },
   "outputs": [],
   "source": [
    "device.gate_1.voltage(-0.3)"
   ]
  },
  {
   "cell_type": "code",
   "execution_count": 34,
   "id": "49def342",
   "metadata": {
    "execution": {
     "iopub.execute_input": "2022-11-29T16:43:30.843221Z",
     "iopub.status.busy": "2022-11-29T16:43:30.842803Z",
     "iopub.status.idle": "2022-11-29T16:43:30.849431Z",
     "shell.execute_reply": "2022-11-29T16:43:30.848780Z"
    }
   },
   "outputs": [
    {
     "data": {
      "text/plain": [
       "-0.3"
      ]
     },
     "execution_count": 34,
     "metadata": {},
     "output_type": "execute_result"
    }
   ],
   "source": [
    "device.gate_1.voltage()"
   ]
  },
  {
   "cell_type": "markdown",
   "id": "7b122128",
   "metadata": {},
   "source": [
    "The MockCustomChannel has a parameter `current_valid_range`."
   ]
  },
  {
   "cell_type": "code",
   "execution_count": 35,
   "id": "d32a06fd",
   "metadata": {
    "execution": {
     "iopub.execute_input": "2022-11-29T16:43:30.853257Z",
     "iopub.status.busy": "2022-11-29T16:43:30.852715Z",
     "iopub.status.idle": "2022-11-29T16:43:30.859720Z",
     "shell.execute_reply": "2022-11-29T16:43:30.859039Z"
    }
   },
   "outputs": [
    {
     "data": {
      "text/plain": [
       "[-0.5, 0]"
      ]
     },
     "execution_count": 35,
     "metadata": {},
     "output_type": "execute_result"
    }
   ],
   "source": [
    "device.gate_1.current_valid_range()"
   ]
  }
 ],
 "metadata": {
  "kernelspec": {
   "display_name": "Python 3 (ipykernel)",
   "language": "python",
   "name": "python3"
  },
  "language_info": {
   "codemirror_mode": {
    "name": "ipython",
    "version": 3
   },
   "file_extension": ".py",
   "mimetype": "text/x-python",
   "name": "python",
   "nbconvert_exporter": "python",
   "pygments_lexer": "ipython3",
   "version": "3.10.8"
  }
 },
 "nbformat": 4,
 "nbformat_minor": 5
}
